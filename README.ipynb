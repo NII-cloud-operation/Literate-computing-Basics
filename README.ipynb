{
 "cells": [
  {
   "cell_type": "markdown",
   "metadata": {},
   "source": [
    "# About: Literate Computing for Reproducible Infrastructure README\n",
    "\n",
    "---\n",
    "\n",
    "**Literate Computing for Reproducible Infrastructure:** Notebooks for operations of infrastructure.  Operational procedures and considerations are described literatelly and reproducibly using Jupyter and Ansible. \n",
    "These are a kind of exemplary copybooks which present how NII cloud operation does, thus you may need appropriate modification on your practice.\n",
    "\n",
    "インフラ運用をJupyter + Ansibleでおこなう際のお手本Notebookです。<br>\n",
    "**なお、これらのNotebookはNIIクラウドチーム内で行っている作業の考え方を示すためのもので、環境によってはそのままでは動作しないものもあります。**"
   ]
  },
  {
   "cell_type": "markdown",
   "metadata": {},
   "source": [
    "----\n",
    "\n",
    "[![Creative Commons License](https://i.creativecommons.org/l/by/4.0/88x31.png)](http://creativecommons.org/licenses/by/4.0/)\n",
    "\n",
    "Literate-computing-Basics (c) by National Institute of Informatics\n",
    "\n",
    "Literate-computing-Basics is licensed under a\n",
    "Creative Commons Attribution 4.0 International License.\n",
    "\n",
    "You should have received a copy of the license along with this\n",
    "work. If not, see <http://creativecommons.org/licenses/by/4.0/>."
   ]
  },
  {
   "cell_type": "markdown",
   "metadata": {},
   "source": [
    "## 関連資料\n",
    "\n",
    "\n",
    "- [Jupyter notebook を用いた文芸的インフラ運用のススメ - SlideShare](http://www.slideshare.net/nobu758/jupyter-notebook-63167604)\n",
    "- [Literate Automation（文芸的自動化）についての考察 - めもめも](http://enakai00.hatenablog.com/entry/2016/04/22/204125)\n",
    "\n"
   ]
  },
  {
   "cell_type": "markdown",
   "metadata": {},
   "source": [
    "# お手本Notebook\n",
    "\n",
    "お手本NotebookはこのNotebookと同じディレクトリにあります。Notebookは目的に応じて以下のような命名規則に則って名前がつけられています。\n",
    "\n",
    "- D(NN)\\_(Notebook名) ... インストール関連Notebook\n",
    "- O(NN)\\_(Notebook名) ... 運用関連Notebook\n",
    "- T(NN)\\_(Notebook名) ... テスト関連Notebook\n",
    "\n",
    "特に、**[Notebook環境Prerequisite](D00_Notebook%E7%92%B0%E5%A2%83Prerequisite.ipynb)は、お手本Notebookが適用可能なNotebook環境、Bind対象であるかどうかを確認するためのNotebook**です。はじめに実施して、これらのお手本Notebookが利用可能な状態かを確認してみてください。"
   ]
  },
  {
   "cell_type": "markdown",
   "metadata": {},
   "source": [
    "現在、このNotebook環境からアクセス可能なNotebookの一覧を参照するには、以下のセルを実行(`Run cell`)してください。Notebookファイルへのリンクが表示されます。"
   ]
  },
  {
   "cell_type": "code",
   "execution_count": 1,
   "metadata": {},
   "outputs": [
    {
     "data": {
      "text/html": [
       "<div><a href=\"D00_Prerequisits for Literate Computing via Notebooks.ipynb\" target=\"_blank\">D00_Prerequisits for Literate Computing via Notebooks</a></div><div><a href=\"D01_GCE - Set! Go! (Google Compute Engine).ipynb\" target=\"_blank\">D01_GCE - Set! Go! (Google Compute Engine)</a></div><div><a href=\"D02_Docker - Ready! on Ubuntu and Set! Go!.ipynb\" target=\"_blank\">D02_Docker - Ready! on Ubuntu and Set! Go!</a></div><div><a href=\"D03_KVM - Ready! on CentOS.ipynb\" target=\"_blank\">D03_KVM - Ready! on CentOS</a></div><div><a href=\"D03b_KVM - Set! CentOS6.ipynb\" target=\"_blank\">D03b_KVM - Set! CentOS6</a></div><div><a href=\"D03b_KVM - Set! Ubuntu 14.04.ipynb\" target=\"_blank\">D03b_KVM - Set! Ubuntu 14.04</a></div><div><a href=\"D03c_KVM - Go! VM.ipynb\" target=\"_blank\">D03c_KVM - Go! VM</a></div><div><a href=\"D90_Postscript - Operational Policy Settings; Security etc. (to be elaborated).ipynb\" target=\"_blank\">D90_Postscript - Operational Policy Settings; Security etc. (to be elaborated)</a></div><div><a href=\"O03_GCE - Destroy VM (Google Compute Engine).ipynb\" target=\"_blank\">O03_GCE - Destroy VM (Google Compute Engine)</a></div><div><a href=\"O03_KVM - Destroy VM on KVM.ipynb\" target=\"_blank\">O03_KVM - Destroy VM on KVM</a></div><div><a href=\"T03_KVM - Confirm KVM is healthy .ipynb\" target=\"_blank\">T03_KVM - Confirm KVM is healthy </a></div><div><a href=\"T03_KVM - Status Report of running VMs.ipynb\" target=\"_blank\">T03_KVM - Status Report of running VMs</a></div>"
      ],
      "text/plain": [
       "<IPython.core.display.HTML object>"
      ]
     },
     "execution_count": 1,
     "metadata": {},
     "output_type": "execute_result"
    }
   ],
   "source": [
    "import re\n",
    "import os\n",
    "from IPython.core.display import HTML\n",
    "\n",
    "ref_notebooks = filter(lambda m: m, map(lambda n: re.match(r'([A-Z][0-9][0-9a-z]+_.*)\\.ipynb', n), os.listdir('.')))\n",
    "ref_notebooks = sorted(ref_notebooks, key=lambda m: m.group(1))\n",
    "HTML(''.join(map(lambda m: '<div><a href=\"{name}\" target=\"_blank\">{title}</a></div>'.format(name=m.group(0), title=m.group(1)),\n",
    "                 ref_notebooks)))"
   ]
  },
  {
   "cell_type": "markdown",
   "metadata": {},
   "source": [
    "## お手本Notebookと証跡Notebook\n",
    "\n",
    "お手本Notebookを使う場合は、お手本をコピーし、そのコピーを開きます。このように、**お手本と作業証跡は明確に分けながら作業をおこないます。**\n",
    "\n",
    "また、お手本をコピーする際は、 `YYYYMMDD_NN_` といった実施日を示すプレフィックスを付加することで、後で整理しやすくしています。\n"
   ]
  },
  {
   "cell_type": "markdown",
   "metadata": {},
   "source": [
    "## 実際にお手本Notebookを使ってみる\n",
    "\n",
    "以下のJavaScriptを実行することで、簡単にお手本から作業用Notebookを作成することもできます。\n",
    "\n",
    "以下のセルを実行すると、Notebook名のドロップダウンリストと[作業開始]ボタンが現れます。\n",
    "[作業開始]ボタンを押すと、お手本Notebookのコピーを作成した後、自動的にブラウザでコピーが開きます。\n",
    "Notebookの説明を確認しながら実行、適宜修正しながら実行していってください。"
   ]
  },
  {
   "cell_type": "code",
   "execution_count": 2,
   "metadata": {},
   "outputs": [
    {
     "data": {
      "text/html": [
       "\n",
       "<script type=\"text/Javascript\">\n",
       "    function copy_otehon() {\n",
       "        var sel = document.getElementById('selector');\n",
       "        IPython.notebook.kernel.execute('copy_ref_notebook(\"' + sel.options[sel.selectedIndex].value + '\")',\n",
       "                       {'iopub': {'output': function(msg) {\n",
       "                           window.open(msg.content.text, '_blank')\n",
       "                       }}});\n",
       "    }\n",
       "</script>\n",
       "<select id=\"selector\"><option value=\"D00_Prerequisits for Literate Computing via Notebooks.ipynb\">D00_Prerequisits for Literate Computing via Notebooks</option><option value=\"D01_GCE - Set! Go! (Google Compute Engine).ipynb\">D01_GCE - Set! Go! (Google Compute Engine)</option><option value=\"D02_Docker - Ready! on Ubuntu and Set! Go!.ipynb\">D02_Docker - Ready! on Ubuntu and Set! Go!</option><option value=\"D03_KVM - Ready! on CentOS.ipynb\">D03_KVM - Ready! on CentOS</option><option value=\"D03b_KVM - Set! CentOS6.ipynb\">D03b_KVM - Set! CentOS6</option><option value=\"D03b_KVM - Set! Ubuntu 14.04.ipynb\">D03b_KVM - Set! Ubuntu 14.04</option><option value=\"D03c_KVM - Go! VM.ipynb\">D03c_KVM - Go! VM</option><option value=\"D90_Postscript - Operational Policy Settings; Security etc. (to be elaborated).ipynb\">D90_Postscript - Operational Policy Settings; Security etc. (to be elaborated)</option><option value=\"O03_GCE - Destroy VM (Google Compute Engine).ipynb\">O03_GCE - Destroy VM (Google Compute Engine)</option><option value=\"O03_KVM - Destroy VM on KVM.ipynb\">O03_KVM - Destroy VM on KVM</option><option value=\"T03_KVM - Confirm KVM is healthy .ipynb\">T03_KVM - Confirm KVM is healthy </option><option value=\"T03_KVM - Status Report of running VMs.ipynb\">T03_KVM - Status Report of running VMs</option></select><button onclick=\"copy_otehon()\">作業開始</button>"
      ],
      "text/plain": [
       "<IPython.core.display.HTML object>"
      ]
     },
     "execution_count": 2,
     "metadata": {},
     "output_type": "execute_result"
    }
   ],
   "source": [
    "from datetime import datetime\n",
    "import shutil\n",
    "\n",
    "def copy_ref_notebook(src):\n",
    "    prefix = datetime.now().strftime('%Y%m%d') + '_'\n",
    "    index = len(filter(lambda name: name.startswith(prefix), os.listdir('.'))) + 1\n",
    "    new_notebook = '{0}{1:0>2}_{2}'.format(prefix, index, src)\n",
    "    shutil.copyfile(src, new_notebook)\n",
    "    print(new_notebook)\n",
    "\n",
    "frags = map(lambda m: '<option value=\"{name}\">{title}</option>'.format(name=m.group(0), title=m.group(1)),\n",
    "            ref_notebooks)\n",
    "HTML('''\n",
    "<script type=\"text/Javascript\">\n",
    "    function copy_otehon() {\n",
    "        var sel = document.getElementById('selector');\n",
    "        IPython.notebook.kernel.execute('copy_ref_notebook(\"' + sel.options[sel.selectedIndex].value + '\")',\n",
    "                       {'iopub': {'output': function(msg) {\n",
    "                           window.open(msg.content.text, '_blank')\n",
    "                       }}});\n",
    "    }\n",
    "</script>\n",
    "<select id=\"selector\">''' + ''.join(frags) + '</select><button onclick=\"copy_otehon()\">作業開始</button>')"
   ]
  },
  {
   "cell_type": "markdown",
   "metadata": {
    "collapsed": true
   },
   "source": [
    "## お手本のアーカイブ\n",
    "\n",
    "以下のセルで、お手本NotebookのZIPアーカイブを作成できます。"
   ]
  },
  {
   "cell_type": "code",
   "execution_count": 3,
   "metadata": {},
   "outputs": [
    {
     "name": "stdout",
     "output_type": "stream",
     "text": [
      "  adding: README.ipynb (deflated 73%)\r\n",
      "  adding: D00_Prerequisits for Literate Computing via Notebooks.ipynb (deflated 79%)\r\n",
      "  adding: D01_GCE - Set! Go! (Google Compute Engine).ipynb (deflated 78%)\r\n",
      "  adding: D02_Docker - Ready! on Ubuntu and Set! Go!.ipynb (deflated 87%)\r\n",
      "  adding: D03_KVM - Ready! on CentOS.ipynb (deflated 88%)\r\n",
      "  adding: D03b_KVM - Set! CentOS6.ipynb (deflated 82%)\r\n",
      "  adding: D03b_KVM - Set! Ubuntu 14.04.ipynb (deflated 81%)\r\n",
      "  adding: D03c_KVM - Go! VM.ipynb (deflated 77%)\r\n",
      "  adding: D90_Postscript - Operational Policy Settings; Security etc. (to be elaborated).ipynb (deflated 78%)\r\n",
      "  adding: O03_GCE - Destroy VM (Google Compute Engine).ipynb (deflated 74%)\r\n",
      "  adding: O03_KVM - Destroy VM on KVM.ipynb (deflated 79%)\r\n",
      "  adding: T03_KVM - Confirm KVM is healthy .ipynb (deflated 73%)\r\n",
      "  adding: T03_KVM - Status Report of running VMs.ipynb (deflated 71%)\r\n",
      "  adding: scripts/euca2ools.py (deflated 47%)\r\n",
      "  adding: scripts/nova.py (deflated 67%)\r\n"
     ]
    }
   ],
   "source": [
    "ref_notebooks = filter(lambda m: m, map(lambda n: re.match(r'([A-Z][0-9][0-9a-z]+_.*)\\.ipynb', n), os.listdir('.')))\n",
    "ref_notebooks = sorted(ref_notebooks, key=lambda m: m.group(1))\n",
    "!zip ref_notebooks-{datetime.now().strftime('%Y%m%d')}.zip README.ipynb {' '.join(map(lambda n: '\"' + n.group(0) + '\"', ref_notebooks))} scripts/*"
   ]
  },
  {
   "cell_type": "markdown",
   "metadata": {},
   "source": [
    "こいつを・・・以下のURLからダウンロードできます。"
   ]
  },
  {
   "cell_type": "code",
   "execution_count": 4,
   "metadata": {},
   "outputs": [
    {
     "data": {
      "text/html": [
       "<a href=\"../files/ref_notebooks-20160801.zip\" target=\"_blank\">ref_notebooks-20160801.zip</a>"
      ],
      "text/plain": [
       "<IPython.core.display.HTML object>"
      ]
     },
     "execution_count": 4,
     "metadata": {},
     "output_type": "execute_result"
    }
   ],
   "source": [
    "HTML('<a href=\"../files/{filename}\" target=\"_blank\">{filename}</a>' \\\n",
    "     .format(filename='ref_notebooks-' + datetime.now().strftime('%Y%m%d') + '.zip'))"
   ]
  },
  {
   "cell_type": "code",
   "execution_count": null,
   "metadata": {
    "collapsed": true
   },
   "outputs": [],
   "source": []
  }
 ],
 "metadata": {
  "kernelspec": {
   "display_name": "Python 2",
   "language": "python",
   "name": "python2"
  },
  "language_info": {
   "codemirror_mode": {
    "name": "ipython",
    "version": 2
   },
   "file_extension": ".py",
   "mimetype": "text/x-python",
   "name": "python",
   "nbconvert_exporter": "python",
   "pygments_lexer": "ipython2",
   "version": "2.7.9"
  },
  "toc": {
   "colors": {
    "hover_highlight": "#DAA520",
    "running_highlight": "#FF0000",
    "selected_highlight": "#FFD700"
   },
   "moveMenuLeft": true,
   "nav_menu": {
    "height": "135px",
    "width": "252px"
   },
   "navigate_menu": true,
   "number_sections": true,
   "sideBar": true,
   "threshold": 4,
   "toc_cell": false,
   "toc_number_sections": true,
   "toc_section_display": "block",
   "toc_threshold": 6,
   "toc_window_display": false,
   "widenNotebook": false
  }
 },
 "nbformat": 4,
 "nbformat_minor": 1
}
